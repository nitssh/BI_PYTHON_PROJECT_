{
 "cells": [
  {
   "cell_type": "code",
   "execution_count": 35,
   "metadata": {},
   "outputs": [],
   "source": [
    "import pandas as pd\n",
    "import numpy as np\n",
    "import matplotlib.pyplot as plt\n",
    "import seaborn as sns"
   ]
  },
  {
   "cell_type": "code",
   "execution_count": 36,
   "metadata": {},
   "outputs": [
    {
     "data": {
      "text/html": [
       "<div>\n",
       "<style scoped>\n",
       "    .dataframe tbody tr th:only-of-type {\n",
       "        vertical-align: middle;\n",
       "    }\n",
       "\n",
       "    .dataframe tbody tr th {\n",
       "        vertical-align: top;\n",
       "    }\n",
       "\n",
       "    .dataframe thead th {\n",
       "        text-align: right;\n",
       "    }\n",
       "</style>\n",
       "<table border=\"1\" class=\"dataframe\">\n",
       "  <thead>\n",
       "    <tr style=\"text-align: right;\">\n",
       "      <th></th>\n",
       "      <th>SL.NO. OF\\rPOLLING\\rSTATIONS</th>\n",
       "      <th>AJIT\\nMANGARAJ\\INC</th>\n",
       "      <th>PRADEEP\\nMAHARATHY\\BJD\\n</th>\n",
       "      <th>JUDHISTIR\\nSAMANTARA\\nY\\INC</th>\n",
       "      <th>ASHOK\\nPRADHAN\\BJP</th>\n",
       "      <th>SUDARSHAN\\nPRADHAN\\SP</th>\n",
       "      <th>SHYAM\\rSUNDAR\\rCHHOTRYA</th>\n",
       "      <th>Total of Valid\\rVotes</th>\n",
       "      <th>No of\\rrejected\\rvotes</th>\n",
       "      <th>Total</th>\n",
       "      <th>No of\\rtendered\\rvotes</th>\n",
       "    </tr>\n",
       "  </thead>\n",
       "  <tbody>\n",
       "    <tr>\n",
       "      <th>0</th>\n",
       "      <td>1</td>\n",
       "      <td>76</td>\n",
       "      <td>749</td>\n",
       "      <td>434</td>\n",
       "      <td>4</td>\n",
       "      <td>2</td>\n",
       "      <td>11</td>\n",
       "      <td>1276</td>\n",
       "      <td>NaN</td>\n",
       "      <td>1276</td>\n",
       "      <td>NaN</td>\n",
       "    </tr>\n",
       "    <tr>\n",
       "      <th>1</th>\n",
       "      <td>2</td>\n",
       "      <td>80</td>\n",
       "      <td>725</td>\n",
       "      <td>262</td>\n",
       "      <td>6</td>\n",
       "      <td>3</td>\n",
       "      <td>5</td>\n",
       "      <td>1081</td>\n",
       "      <td>NaN</td>\n",
       "      <td>1081</td>\n",
       "      <td>NaN</td>\n",
       "    </tr>\n",
       "    <tr>\n",
       "      <th>2</th>\n",
       "      <td>3</td>\n",
       "      <td>20</td>\n",
       "      <td>179</td>\n",
       "      <td>270</td>\n",
       "      <td>3</td>\n",
       "      <td>5</td>\n",
       "      <td>9</td>\n",
       "      <td>486</td>\n",
       "      <td>NaN</td>\n",
       "      <td>486</td>\n",
       "      <td>NaN</td>\n",
       "    </tr>\n",
       "    <tr>\n",
       "      <th>3</th>\n",
       "      <td>4</td>\n",
       "      <td>30</td>\n",
       "      <td>386</td>\n",
       "      <td>292</td>\n",
       "      <td>8</td>\n",
       "      <td>2</td>\n",
       "      <td>5</td>\n",
       "      <td>723</td>\n",
       "      <td>NaN</td>\n",
       "      <td>723</td>\n",
       "      <td>NaN</td>\n",
       "    </tr>\n",
       "    <tr>\n",
       "      <th>4</th>\n",
       "      <td>5</td>\n",
       "      <td>28</td>\n",
       "      <td>368</td>\n",
       "      <td>69</td>\n",
       "      <td>2</td>\n",
       "      <td>1</td>\n",
       "      <td>2</td>\n",
       "      <td>470</td>\n",
       "      <td>NaN</td>\n",
       "      <td>470</td>\n",
       "      <td>NaN</td>\n",
       "    </tr>\n",
       "  </tbody>\n",
       "</table>\n",
       "</div>"
      ],
      "text/plain": [
       "  SL.NO. OF\\rPOLLING\\rSTATIONS  AJIT\\nMANGARAJ\\INC  PRADEEP\\nMAHARATHY\\BJD\\n  \\\n",
       "0                            1                  76                       749   \n",
       "1                            2                  80                       725   \n",
       "2                            3                  20                       179   \n",
       "3                            4                  30                       386   \n",
       "4                            5                  28                       368   \n",
       "\n",
       "   JUDHISTIR\\nSAMANTARA\\nY\\INC  ASHOK\\nPRADHAN\\BJP  SUDARSHAN\\nPRADHAN\\SP  \\\n",
       "0                          434                   4                      2   \n",
       "1                          262                   6                      3   \n",
       "2                          270                   3                      5   \n",
       "3                          292                   8                      2   \n",
       "4                           69                   2                      1   \n",
       "\n",
       "   SHYAM\\rSUNDAR\\rCHHOTRYA  Total of Valid\\rVotes  No of\\rrejected\\rvotes  \\\n",
       "0                       11                   1276                     NaN   \n",
       "1                        5                   1081                     NaN   \n",
       "2                        9                    486                     NaN   \n",
       "3                        5                    723                     NaN   \n",
       "4                        2                    470                     NaN   \n",
       "\n",
       "   Total  No of\\rtendered\\rvotes  \n",
       "0   1276                     NaN  \n",
       "1   1081                     NaN  \n",
       "2    486                     NaN  \n",
       "3    723                     NaN  \n",
       "4    470                     NaN  "
      ]
     },
     "execution_count": 36,
     "metadata": {},
     "output_type": "execute_result"
    }
   ],
   "source": [
    "df = pd.read_excel(r'G:\\Python\\Pipili_110_AE_2009.xlsx')\n",
    "df.head()"
   ]
  },
  {
   "cell_type": "code",
   "execution_count": 37,
   "metadata": {},
   "outputs": [
    {
     "name": "stdout",
     "output_type": "stream",
     "text": [
      "<class 'pandas.core.frame.DataFrame'>\n",
      "RangeIndex: 236 entries, 0 to 235\n",
      "Data columns (total 11 columns):\n",
      " #   Column                      Non-Null Count  Dtype  \n",
      "---  ------                      --------------  -----  \n",
      " 0   SL.NO. OF\r",
      "POLLING\r",
      "STATIONS  236 non-null    object \n",
      " 1   AJIT\n",
      "MANGARAJ\\INC           236 non-null    int64  \n",
      " 2   PRADEEP\n",
      "MAHARATHY\\BJD\n",
      "      236 non-null    int64  \n",
      " 3   JUDHISTIR\n",
      "SAMANTARA\n",
      "Y\\INC   236 non-null    int64  \n",
      " 4   ASHOK\n",
      "PRADHAN\\BJP           236 non-null    int64  \n",
      " 5   SUDARSHAN\n",
      "PRADHAN\\SP        236 non-null    int64  \n",
      " 6   SHYAM\r",
      "SUNDAR\r",
      "CHHOTRYA       236 non-null    int64  \n",
      " 7   Total of Valid\r",
      "Votes        236 non-null    int64  \n",
      " 8   No of\r",
      "rejected\r",
      "votes        3 non-null      float64\n",
      " 9   Total                       236 non-null    int64  \n",
      " 10  No of\r",
      "tendered\r",
      "votes        3 non-null      float64\n",
      "dtypes: float64(2), int64(8), object(1)\n",
      "memory usage: 20.4+ KB\n"
     ]
    }
   ],
   "source": [
    "df.info()"
   ]
  },
  {
   "cell_type": "code",
   "execution_count": 38,
   "metadata": {},
   "outputs": [
    {
     "data": {
      "text/plain": [
       "SL.NO. OF\\rPOLLING\\rSTATIONS      0\n",
       "AJIT\\nMANGARAJ\\INC                0\n",
       "PRADEEP\\nMAHARATHY\\BJD\\n          0\n",
       "JUDHISTIR\\nSAMANTARA\\nY\\INC       0\n",
       "ASHOK\\nPRADHAN\\BJP                0\n",
       "SUDARSHAN\\nPRADHAN\\SP             0\n",
       "SHYAM\\rSUNDAR\\rCHHOTRYA           0\n",
       "Total of Valid\\rVotes             0\n",
       "No of\\rrejected\\rvotes          233\n",
       "Total                             0\n",
       "No of\\rtendered\\rvotes          233\n",
       "dtype: int64"
      ]
     },
     "execution_count": 38,
     "metadata": {},
     "output_type": "execute_result"
    }
   ],
   "source": [
    "df.isnull().sum()"
   ]
  },
  {
   "cell_type": "code",
   "execution_count": 39,
   "metadata": {},
   "outputs": [
    {
     "data": {
      "text/html": [
       "<div>\n",
       "<style scoped>\n",
       "    .dataframe tbody tr th:only-of-type {\n",
       "        vertical-align: middle;\n",
       "    }\n",
       "\n",
       "    .dataframe tbody tr th {\n",
       "        vertical-align: top;\n",
       "    }\n",
       "\n",
       "    .dataframe thead th {\n",
       "        text-align: right;\n",
       "    }\n",
       "</style>\n",
       "<table border=\"1\" class=\"dataframe\">\n",
       "  <thead>\n",
       "    <tr style=\"text-align: right;\">\n",
       "      <th></th>\n",
       "      <th>AJIT\\nMANGARAJ\\INC</th>\n",
       "      <th>PRADEEP\\nMAHARATHY\\BJD\\n</th>\n",
       "      <th>JUDHISTIR\\nSAMANTARA\\nY\\INC</th>\n",
       "      <th>ASHOK\\nPRADHAN\\BJP</th>\n",
       "      <th>SUDARSHAN\\nPRADHAN\\SP</th>\n",
       "      <th>SHYAM\\rSUNDAR\\rCHHOTRYA</th>\n",
       "      <th>Total of Valid\\rVotes</th>\n",
       "      <th>No of\\rrejected\\rvotes</th>\n",
       "      <th>Total</th>\n",
       "      <th>No of\\rtendered\\rvotes</th>\n",
       "    </tr>\n",
       "  </thead>\n",
       "  <tbody>\n",
       "    <tr>\n",
       "      <th>count</th>\n",
       "      <td>236.000000</td>\n",
       "      <td>236.000000</td>\n",
       "      <td>236.000000</td>\n",
       "      <td>236.000000</td>\n",
       "      <td>236.000000</td>\n",
       "      <td>236.000000</td>\n",
       "      <td>236.000000</td>\n",
       "      <td>3.0</td>\n",
       "      <td>236.000000</td>\n",
       "      <td>3.0</td>\n",
       "    </tr>\n",
       "    <tr>\n",
       "      <th>mean</th>\n",
       "      <td>141.580508</td>\n",
       "      <td>942.050847</td>\n",
       "      <td>783.122881</td>\n",
       "      <td>17.618644</td>\n",
       "      <td>7.220339</td>\n",
       "      <td>25.355932</td>\n",
       "      <td>1916.991525</td>\n",
       "      <td>0.0</td>\n",
       "      <td>1916.991525</td>\n",
       "      <td>0.0</td>\n",
       "    </tr>\n",
       "    <tr>\n",
       "      <th>std</th>\n",
       "      <td>1019.376917</td>\n",
       "      <td>6779.497479</td>\n",
       "      <td>5636.406125</td>\n",
       "      <td>127.180048</td>\n",
       "      <td>52.013768</td>\n",
       "      <td>183.196117</td>\n",
       "      <td>13795.464866</td>\n",
       "      <td>0.0</td>\n",
       "      <td>13795.464866</td>\n",
       "      <td>0.0</td>\n",
       "    </tr>\n",
       "    <tr>\n",
       "      <th>min</th>\n",
       "      <td>1.000000</td>\n",
       "      <td>12.000000</td>\n",
       "      <td>4.000000</td>\n",
       "      <td>0.000000</td>\n",
       "      <td>0.000000</td>\n",
       "      <td>0.000000</td>\n",
       "      <td>17.000000</td>\n",
       "      <td>0.0</td>\n",
       "      <td>17.000000</td>\n",
       "      <td>0.0</td>\n",
       "    </tr>\n",
       "    <tr>\n",
       "      <th>25%</th>\n",
       "      <td>23.750000</td>\n",
       "      <td>229.750000</td>\n",
       "      <td>171.500000</td>\n",
       "      <td>2.000000</td>\n",
       "      <td>1.000000</td>\n",
       "      <td>3.000000</td>\n",
       "      <td>469.000000</td>\n",
       "      <td>0.0</td>\n",
       "      <td>469.000000</td>\n",
       "      <td>0.0</td>\n",
       "    </tr>\n",
       "    <tr>\n",
       "      <th>50%</th>\n",
       "      <td>39.500000</td>\n",
       "      <td>311.000000</td>\n",
       "      <td>253.500000</td>\n",
       "      <td>4.000000</td>\n",
       "      <td>2.000000</td>\n",
       "      <td>6.000000</td>\n",
       "      <td>634.000000</td>\n",
       "      <td>0.0</td>\n",
       "      <td>634.000000</td>\n",
       "      <td>0.0</td>\n",
       "    </tr>\n",
       "    <tr>\n",
       "      <th>75%</th>\n",
       "      <td>63.000000</td>\n",
       "      <td>392.250000</td>\n",
       "      <td>328.250000</td>\n",
       "      <td>7.000000</td>\n",
       "      <td>3.000000</td>\n",
       "      <td>10.000000</td>\n",
       "      <td>805.750000</td>\n",
       "      <td>0.0</td>\n",
       "      <td>805.750000</td>\n",
       "      <td>0.0</td>\n",
       "    </tr>\n",
       "    <tr>\n",
       "      <th>max</th>\n",
       "      <td>11138.000000</td>\n",
       "      <td>74112.000000</td>\n",
       "      <td>61607.000000</td>\n",
       "      <td>1386.000000</td>\n",
       "      <td>568.000000</td>\n",
       "      <td>1998.000000</td>\n",
       "      <td>150809.000000</td>\n",
       "      <td>0.0</td>\n",
       "      <td>150809.000000</td>\n",
       "      <td>0.0</td>\n",
       "    </tr>\n",
       "  </tbody>\n",
       "</table>\n",
       "</div>"
      ],
      "text/plain": [
       "       AJIT\\nMANGARAJ\\INC  PRADEEP\\nMAHARATHY\\BJD\\n  \\\n",
       "count          236.000000                236.000000   \n",
       "mean           141.580508                942.050847   \n",
       "std           1019.376917               6779.497479   \n",
       "min              1.000000                 12.000000   \n",
       "25%             23.750000                229.750000   \n",
       "50%             39.500000                311.000000   \n",
       "75%             63.000000                392.250000   \n",
       "max          11138.000000              74112.000000   \n",
       "\n",
       "       JUDHISTIR\\nSAMANTARA\\nY\\INC  ASHOK\\nPRADHAN\\BJP  SUDARSHAN\\nPRADHAN\\SP  \\\n",
       "count                   236.000000          236.000000             236.000000   \n",
       "mean                    783.122881           17.618644               7.220339   \n",
       "std                    5636.406125          127.180048              52.013768   \n",
       "min                       4.000000            0.000000               0.000000   \n",
       "25%                     171.500000            2.000000               1.000000   \n",
       "50%                     253.500000            4.000000               2.000000   \n",
       "75%                     328.250000            7.000000               3.000000   \n",
       "max                   61607.000000         1386.000000             568.000000   \n",
       "\n",
       "       SHYAM\\rSUNDAR\\rCHHOTRYA  Total of Valid\\rVotes  No of\\rrejected\\rvotes  \\\n",
       "count               236.000000             236.000000                     3.0   \n",
       "mean                 25.355932            1916.991525                     0.0   \n",
       "std                 183.196117           13795.464866                     0.0   \n",
       "min                   0.000000              17.000000                     0.0   \n",
       "25%                   3.000000             469.000000                     0.0   \n",
       "50%                   6.000000             634.000000                     0.0   \n",
       "75%                  10.000000             805.750000                     0.0   \n",
       "max                1998.000000          150809.000000                     0.0   \n",
       "\n",
       "               Total  No of\\rtendered\\rvotes  \n",
       "count     236.000000                     3.0  \n",
       "mean     1916.991525                     0.0  \n",
       "std     13795.464866                     0.0  \n",
       "min        17.000000                     0.0  \n",
       "25%       469.000000                     0.0  \n",
       "50%       634.000000                     0.0  \n",
       "75%       805.750000                     0.0  \n",
       "max    150809.000000                     0.0  "
      ]
     },
     "execution_count": 39,
     "metadata": {},
     "output_type": "execute_result"
    }
   ],
   "source": [
    "df.describe()"
   ]
  },
  {
   "cell_type": "code",
   "execution_count": 40,
   "metadata": {},
   "outputs": [
    {
     "name": "stdout",
     "output_type": "stream",
     "text": [
      "Missing Values :\n",
      "SL.NO. OF\\rPOLLING\\rSTATIONS      0\n",
      "AJIT\\nMANGARAJ\\INC                0\n",
      "PRADEEP\\nMAHARATHY\\BJD\\n          0\n",
      "JUDHISTIR\\nSAMANTARA\\nY\\INC       0\n",
      "ASHOK\\nPRADHAN\\BJP                0\n",
      "SUDARSHAN\\nPRADHAN\\SP             0\n",
      "SHYAM\\rSUNDAR\\rCHHOTRYA           0\n",
      "Total of Valid\\rVotes             0\n",
      "No of\\rrejected\\rvotes          233\n",
      "Total                             0\n",
      "No of\\rtendered\\rvotes          233\n",
      "dtype: int64\n"
     ]
    }
   ],
   "source": [
    "print(f\"Missing Values :\\n{df.isnull().sum()}\")\n",
    "\n",
    "\n"
   ]
  },
  {
   "cell_type": "code",
   "execution_count": 41,
   "metadata": {},
   "outputs": [
    {
     "data": {
      "text/plain": [
       "Index(['SL.NO. OF\\rPOLLING\\rSTATIONS', 'AJIT\\nMANGARAJ\\INC',\n",
       "       'PRADEEP\\nMAHARATHY\\BJD\\n', 'JUDHISTIR\\nSAMANTARA\\nY\\INC',\n",
       "       'ASHOK\\nPRADHAN\\BJP', 'SUDARSHAN\\nPRADHAN\\SP',\n",
       "       'SHYAM\\rSUNDAR\\rCHHOTRYA', 'Total of Valid\\rVotes',\n",
       "       'No of\\rrejected\\rvotes', 'Total', 'No of\\rtendered\\rvotes'],\n",
       "      dtype='object')"
      ]
     },
     "execution_count": 41,
     "metadata": {},
     "output_type": "execute_result"
    }
   ],
   "source": [
    "df.columns"
   ]
  },
  {
   "cell_type": "code",
   "execution_count": 42,
   "metadata": {},
   "outputs": [
    {
     "data": {
      "text/plain": [
       "33413"
      ]
     },
     "execution_count": 42,
     "metadata": {},
     "output_type": "execute_result"
    }
   ],
   "source": [
    "df['AJIT\\nMANGARAJ\\INC'].sum()\n"
   ]
  },
  {
   "cell_type": "code",
   "execution_count": 43,
   "metadata": {},
   "outputs": [
    {
     "data": {
      "text/plain": [
       "222324"
      ]
     },
     "execution_count": 43,
     "metadata": {},
     "output_type": "execute_result"
    }
   ],
   "source": [
    "df['PRADEEP\\nMAHARATHY\\BJD\\n'].sum()"
   ]
  },
  {
   "cell_type": "code",
   "execution_count": 26,
   "metadata": {},
   "outputs": [
    {
     "data": {
      "text/html": [
       "<div>\n",
       "<style scoped>\n",
       "    .dataframe tbody tr th:only-of-type {\n",
       "        vertical-align: middle;\n",
       "    }\n",
       "\n",
       "    .dataframe tbody tr th {\n",
       "        vertical-align: top;\n",
       "    }\n",
       "\n",
       "    .dataframe thead th {\n",
       "        text-align: right;\n",
       "    }\n",
       "</style>\n",
       "<table border=\"1\" class=\"dataframe\">\n",
       "  <thead>\n",
       "    <tr style=\"text-align: right;\">\n",
       "      <th></th>\n",
       "      <th>AJIT\\nMANGARAJ\\INC</th>\n",
       "      <th>PRADEEP\\nMAHARATHY\\BJD\\n</th>\n",
       "      <th>JUDHISTIR\\nSAMANTARA\\nY\\INC</th>\n",
       "      <th>ASHOK\\nPRADHAN\\BJP</th>\n",
       "      <th>SUDARSHAN\\nPRADHAN\\SP</th>\n",
       "      <th>SHYAM\\rSUNDAR\\rCHHOTRYA</th>\n",
       "      <th>Total of Valid\\rVotes</th>\n",
       "    </tr>\n",
       "  </thead>\n",
       "  <tbody>\n",
       "    <tr>\n",
       "      <th>0</th>\n",
       "      <td>76</td>\n",
       "      <td>749</td>\n",
       "      <td>434</td>\n",
       "      <td>4</td>\n",
       "      <td>2</td>\n",
       "      <td>11</td>\n",
       "      <td>1276</td>\n",
       "    </tr>\n",
       "    <tr>\n",
       "      <th>1</th>\n",
       "      <td>80</td>\n",
       "      <td>725</td>\n",
       "      <td>262</td>\n",
       "      <td>6</td>\n",
       "      <td>3</td>\n",
       "      <td>5</td>\n",
       "      <td>1081</td>\n",
       "    </tr>\n",
       "    <tr>\n",
       "      <th>2</th>\n",
       "      <td>20</td>\n",
       "      <td>179</td>\n",
       "      <td>270</td>\n",
       "      <td>3</td>\n",
       "      <td>5</td>\n",
       "      <td>9</td>\n",
       "      <td>486</td>\n",
       "    </tr>\n",
       "    <tr>\n",
       "      <th>3</th>\n",
       "      <td>30</td>\n",
       "      <td>386</td>\n",
       "      <td>292</td>\n",
       "      <td>8</td>\n",
       "      <td>2</td>\n",
       "      <td>5</td>\n",
       "      <td>723</td>\n",
       "    </tr>\n",
       "    <tr>\n",
       "      <th>4</th>\n",
       "      <td>28</td>\n",
       "      <td>368</td>\n",
       "      <td>69</td>\n",
       "      <td>2</td>\n",
       "      <td>1</td>\n",
       "      <td>2</td>\n",
       "      <td>470</td>\n",
       "    </tr>\n",
       "    <tr>\n",
       "      <th>...</th>\n",
       "      <td>...</td>\n",
       "      <td>...</td>\n",
       "      <td>...</td>\n",
       "      <td>...</td>\n",
       "      <td>...</td>\n",
       "      <td>...</td>\n",
       "      <td>...</td>\n",
       "    </tr>\n",
       "    <tr>\n",
       "      <th>231</th>\n",
       "      <td>49</td>\n",
       "      <td>367</td>\n",
       "      <td>393</td>\n",
       "      <td>9</td>\n",
       "      <td>5</td>\n",
       "      <td>5</td>\n",
       "      <td>828</td>\n",
       "    </tr>\n",
       "    <tr>\n",
       "      <th>232</th>\n",
       "      <td>15</td>\n",
       "      <td>224</td>\n",
       "      <td>139</td>\n",
       "      <td>2</td>\n",
       "      <td>1</td>\n",
       "      <td>15</td>\n",
       "      <td>396</td>\n",
       "    </tr>\n",
       "    <tr>\n",
       "      <th>233</th>\n",
       "      <td>11137</td>\n",
       "      <td>74100</td>\n",
       "      <td>61603</td>\n",
       "      <td>1386</td>\n",
       "      <td>568</td>\n",
       "      <td>1998</td>\n",
       "      <td>150792</td>\n",
       "    </tr>\n",
       "    <tr>\n",
       "      <th>234</th>\n",
       "      <td>1</td>\n",
       "      <td>12</td>\n",
       "      <td>4</td>\n",
       "      <td>0</td>\n",
       "      <td>0</td>\n",
       "      <td>0</td>\n",
       "      <td>17</td>\n",
       "    </tr>\n",
       "    <tr>\n",
       "      <th>235</th>\n",
       "      <td>11138</td>\n",
       "      <td>74112</td>\n",
       "      <td>61607</td>\n",
       "      <td>1386</td>\n",
       "      <td>568</td>\n",
       "      <td>1998</td>\n",
       "      <td>150809</td>\n",
       "    </tr>\n",
       "  </tbody>\n",
       "</table>\n",
       "<p>236 rows × 7 columns</p>\n",
       "</div>"
      ],
      "text/plain": [
       "     AJIT\\nMANGARAJ\\INC  PRADEEP\\nMAHARATHY\\BJD\\n  \\\n",
       "0                    76                       749   \n",
       "1                    80                       725   \n",
       "2                    20                       179   \n",
       "3                    30                       386   \n",
       "4                    28                       368   \n",
       "..                  ...                       ...   \n",
       "231                  49                       367   \n",
       "232                  15                       224   \n",
       "233               11137                     74100   \n",
       "234                   1                        12   \n",
       "235               11138                     74112   \n",
       "\n",
       "     JUDHISTIR\\nSAMANTARA\\nY\\INC  ASHOK\\nPRADHAN\\BJP  SUDARSHAN\\nPRADHAN\\SP  \\\n",
       "0                            434                   4                      2   \n",
       "1                            262                   6                      3   \n",
       "2                            270                   3                      5   \n",
       "3                            292                   8                      2   \n",
       "4                             69                   2                      1   \n",
       "..                           ...                 ...                    ...   \n",
       "231                          393                   9                      5   \n",
       "232                          139                   2                      1   \n",
       "233                        61603                1386                    568   \n",
       "234                            4                   0                      0   \n",
       "235                        61607                1386                    568   \n",
       "\n",
       "     SHYAM\\rSUNDAR\\rCHHOTRYA  Total of Valid\\rVotes  \n",
       "0                         11                   1276  \n",
       "1                          5                   1081  \n",
       "2                          9                    486  \n",
       "3                          5                    723  \n",
       "4                          2                    470  \n",
       "..                       ...                    ...  \n",
       "231                        5                    828  \n",
       "232                       15                    396  \n",
       "233                     1998                 150792  \n",
       "234                        0                     17  \n",
       "235                     1998                 150809  \n",
       "\n",
       "[236 rows x 7 columns]"
      ]
     },
     "execution_count": 26,
     "metadata": {},
     "output_type": "execute_result"
    }
   ],
   "source": [
    "df1=df.iloc[:,1:8]\n",
    "df1"
   ]
  },
  {
   "cell_type": "markdown",
   "metadata": {},
   "source": [
    "# Categorization based on no. of dominant players "
   ]
  },
  {
   "cell_type": "code",
   "execution_count": 28,
   "metadata": {},
   "outputs": [
    {
     "data": {
      "text/plain": [
       "<AxesSubplot:>"
      ]
     },
     "execution_count": 28,
     "metadata": {},
     "output_type": "execute_result"
    },
    {
     "name": "stderr",
     "output_type": "stream",
     "text": [
      "F:\\anaconda\\lib\\site-packages\\matplotlib\\backends\\backend_agg.py:238: RuntimeWarning: Glyph 13 missing from current font.\n",
      "  font.set_text(s, 0.0, flags=flags)\n",
      "F:\\anaconda\\lib\\site-packages\\matplotlib\\backends\\backend_agg.py:201: RuntimeWarning: Glyph 13 missing from current font.\n",
      "  font.set_text(s, 0, flags=flags)\n"
     ]
    },
    {
     "data": {
      "image/png": "[encoded data removed]",
      "text/plain": [
       "<Figure size 432x288 with 1 Axes>"
      ]
     },
     "metadata": {
      "needs_background": "light"
     },
     "output_type": "display_data"
    }
   ],
   "source": [
    "df1.sum().plot(kind='bar')"
   ]
  },
  {
   "cell_type": "markdown",
   "metadata": {},
   "source": [
    "    We can clearly see in the bar plot that PRADEEP\\nMAHARATHY\\BJD\\n is getting the highest numbers of vote after that JUDHISTIR\\nSAMANTARA\\nY\\INC is getting the second highest vote so its Two way fight between BJD and INC"
   ]
  },
  {
   "cell_type": "code",
   "execution_count": null,
   "metadata": {},
   "outputs": [],
   "source": []
  },
  {
   "cell_type": "code",
   "execution_count": 31,
   "metadata": {
    "scrolled": true
   },
   "outputs": [
    {
     "data": {
      "text/plain": [
       "AJIT\\nMANGARAJ\\INC              33413\n",
       "PRADEEP\\nMAHARATHY\\BJD\\n       222324\n",
       "JUDHISTIR\\nSAMANTARA\\nY\\INC    184817\n",
       "ASHOK\\nPRADHAN\\BJP               4158\n",
       "SUDARSHAN\\nPRADHAN\\SP            1704\n",
       "SHYAM\\rSUNDAR\\rCHHOTRYA          5984\n",
       "Total of Valid\\rVotes          452410\n",
       "dtype: int64"
      ]
     },
     "execution_count": 31,
     "metadata": {},
     "output_type": "execute_result"
    }
   ],
   "source": [
    "df1.sum()"
   ]
  },
  {
   "cell_type": "markdown",
   "metadata": {},
   "source": [
    "# Booth categorization based on Vote Share"
   ]
  },
  {
   "cell_type": "markdown",
   "metadata": {},
   "source": [
    "For this i have to use pandas cut function \n"
   ]
  },
  {
   "cell_type": "markdown",
   "metadata": {},
   "source": [
    "# Trend Analysis of closely fought booths"
   ]
  },
  {
   "cell_type": "code",
   "execution_count": 50,
   "metadata": {
    "scrolled": true
   },
   "outputs": [
    {
     "ename": "AttributeError",
     "evalue": "module 'matplotlib.pyplot' has no attribute 'xtricks'",
     "output_type": "error",
     "traceback": [
      "\u001b[1;31m---------------------------------------------------------------------------\u001b[0m",
      "\u001b[1;31mAttributeError\u001b[0m                            Traceback (most recent call last)",
      "\u001b[1;32m<ipython-input-50-f1b159333837>\u001b[0m in \u001b[0;36m<module>\u001b[1;34m\u001b[0m\n\u001b[0;32m      1\u001b[0m \u001b[0mplt\u001b[0m\u001b[1;33m.\u001b[0m\u001b[0mplot\u001b[0m\u001b[1;33m(\u001b[0m\u001b[1;34m\"PRADEEP\\nMAHARATHY\\BJD\\n\"\u001b[0m\u001b[1;33m,\u001b[0m\u001b[1;34m\"JUDHISTIR\\nSAMANTARA\\nY\\INC\"\u001b[0m\u001b[1;33m,\u001b[0m\u001b[0mdata\u001b[0m\u001b[1;33m=\u001b[0m\u001b[0mdf\u001b[0m\u001b[1;33m)\u001b[0m\u001b[1;33m\u001b[0m\u001b[1;33m\u001b[0m\u001b[0m\n\u001b[1;32m----> 2\u001b[1;33m \u001b[0mplt\u001b[0m\u001b[1;33m.\u001b[0m\u001b[0mxtricks\u001b[0m\u001b[1;33m(\u001b[0m\u001b[0mrotaion\u001b[0m\u001b[1;33m=\u001b[0m\u001b[1;36m45\u001b[0m\u001b[1;33m)\u001b[0m\u001b[1;33m\u001b[0m\u001b[1;33m\u001b[0m\u001b[0m\n\u001b[0m\u001b[0;32m      3\u001b[0m \u001b[0mplt\u001b[0m\u001b[1;33m.\u001b[0m\u001b[0mshow\u001b[0m\u001b[1;33m\u001b[0m\u001b[1;33m\u001b[0m\u001b[0m\n",
      "\u001b[1;31mAttributeError\u001b[0m: module 'matplotlib.pyplot' has no attribute 'xtricks'"
     ]
    },
    {
     "data": {
      "image/png": "[encoded data removed]",
      "text/plain": [
       "<Figure size 432x288 with 1 Axes>"
      ]
     },
     "metadata": {
      "needs_background": "light"
     },
     "output_type": "display_data"
    }
   ],
   "source": [
    "plt.plot(\"PRADEEP\\nMAHARATHY\\BJD\\n\",\"JUDHISTIR\\nSAMANTARA\\nY\\INC\",data=df)\n",
    "plt.xtricks(rotaion=45)\n",
    "plt.show"
   ]
  },
  {
   "cell_type": "code",
   "execution_count": null,
   "metadata": {},
   "outputs": [],
   "source": []
  }
 ],
 "metadata": {
  "kernelspec": {
   "display_name": "Python 3",
   "language": "python",
   "name": "python3"
  },
  "language_info": {
   "codemirror_mode": {
    "name": "ipython",
    "version": 3
   },
   "file_extension": ".py",
   "mimetype": "text/x-python",
   "name": "python",
   "nbconvert_exporter": "python",
   "pygments_lexer": "ipython3",
   "version": "3.8.5"
  }
 },
 "nbformat": 4,
 "nbformat_minor": 4
}
